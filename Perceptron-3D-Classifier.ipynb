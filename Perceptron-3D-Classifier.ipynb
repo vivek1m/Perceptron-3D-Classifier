{
 "cells": [
  {
   "cell_type": "markdown",
   "id": "7343a2e0",
   "metadata": {},
   "source": [
    "### Name:Vivek Sharma\n",
    "### Batch: A4\n",
    "### ROll No:67"
   ]
  },
  {
   "cell_type": "markdown",
   "id": "414d6a47",
   "metadata": {},
   "source": [
    "### Implement the perceptron learning algorithm to classify 3-dimensional points into two classes based on a given dataset. Update weights iteratively until convergence."
   ]
  },
  {
   "cell_type": "code",
   "execution_count": 1,
   "id": "51c784a3",
   "metadata": {},
   "outputs": [
    {
     "name": "stdout",
     "output_type": "stream",
     "text": [
      "Learned weights: [0.1 0.1 0.1]\n",
      "Learned bias: -0.30000000000000004\n",
      "Prediction for test point: 1\n"
     ]
    }
   ],
   "source": [
    "import numpy as np\n",
    "\n",
    "X = np.array([[-1, -1, -1], [-1, -1, 1], [-1, 1, -1], [-1, 1, 1],\n",
    "              [1, -1, -1], [1, -1, 1], [1, 1, -1], [1, 1, 1]])\n",
    "y = np.array([0, 0, 0, 0, 0, 0, 0, 1])\n",
    "\n",
    "w = np.zeros(3)\n",
    "b = 0\n",
    "\n",
    "def step(x):\n",
    "    return 1 if x >= 0 else 0\n",
    "\n",
    "learning_rate = 0.1\n",
    "epochs = 100\n",
    "\n",
    "for epoch in range(epochs):\n",
    "    for i in range(len(X)):\n",
    "        weighted_sum = np.dot(X[i], w) + b\n",
    "        output = step(weighted_sum)\n",
    "        if output != y[i]:\n",
    "            w = w + learning_rate * (y[i] - output) * X[i]\n",
    "            b = b + learning_rate * (y[i] - output)\n",
    "\n",
    "print(\"Learned weights:\", w)\n",
    "print(\"Learned bias:\", b)\n",
    "\n",
    "test_point = np.array([1, 1, 1])\n",
    "prediction = step(np.dot(test_point, w) + b)\n",
    "print(\"Prediction for test point:\", prediction)\n"
   ]
  },
  {
   "cell_type": "markdown",
   "id": "cb0eab38",
   "metadata": {},
   "source": [
    "### Develop a Python program to determine the number of linearly separable binary classification problems from a given dataset of 3-dimensional points. Validate using multiple class combinations."
   ]
  },
  {
   "cell_type": "code",
   "execution_count": 2,
   "id": "fe32a579",
   "metadata": {},
   "outputs": [
    {
     "name": "stdout",
     "output_type": "stream",
     "text": [
      "Number of linearly separable cases: 104\n"
     ]
    }
   ],
   "source": [
    "import numpy as np\n",
    "import itertools\n",
    "def perceptron(X, y, learning_rate=0.1, epochs=100):\n",
    "    w = np.zeros(X.shape[1])\n",
    "    b = 0\n",
    "    \n",
    "    def step(x):\n",
    "        return 1 if x >= 0 else 0\n",
    "    \n",
    "    for epoch in range(epochs):\n",
    "        converged = True\n",
    "        for i in range(len(X)):\n",
    "            weighted_sum = np.dot(X[i], w) + b\n",
    "            output = step(weighted_sum)\n",
    "            if output != y[i]:\n",
    "                converged = False\n",
    "                w = w + learning_rate * (y[i] - output) * X[i]\n",
    "                b = b + learning_rate * (y[i] - output)\n",
    "        if converged:\n",
    "            break\n",
    "    \n",
    "    return w, b, converged\n",
    "X = np.array([[-1, -1, -1], [-1, -1, 1], [-1, 1, -1], [-1, 1, 1],\n",
    "              [1, -1, -1], [1, -1, 1], [1, 1, -1], [1, 1, 1]])\n",
    "y_combinations = list(itertools.product([0, 1], repeat=8))\n",
    "separable_cases = 0\n",
    "for y in y_combinations:\n",
    "    _, _, converged = perceptron(X, np.array(y))\n",
    "    if converged:\n",
    "        separable_cases += 1\n",
    "\n",
    "print(\"Number of linearly separable cases:\", separable_cases)\n"
   ]
  },
  {
   "cell_type": "markdown",
   "id": "2a639dd8",
   "metadata": {},
   "source": [
    "### Analyze the convergence of the perceptron learning algorithm by varying the learning rate and epochs. Evaluate its impact on classification accuracy."
   ]
  },
  {
   "cell_type": "code",
   "execution_count": 3,
   "id": "089e3e67",
   "metadata": {},
   "outputs": [
    {
     "name": "stdout",
     "output_type": "stream",
     "text": [
      "Number of linearly separable cases: 104\n",
      "Learning rate: 0.01, Epochs: 10, Converged: True\n",
      "Learning rate: 0.01, Epochs: 50, Converged: True\n",
      "Learning rate: 0.01, Epochs: 100, Converged: True\n",
      "Learning rate: 0.01, Epochs: 500, Converged: True\n",
      "Learning rate: 0.1, Epochs: 10, Converged: True\n",
      "Learning rate: 0.1, Epochs: 50, Converged: True\n",
      "Learning rate: 0.1, Epochs: 100, Converged: True\n",
      "Learning rate: 0.1, Epochs: 500, Converged: True\n",
      "Learning rate: 0.5, Epochs: 10, Converged: True\n",
      "Learning rate: 0.5, Epochs: 50, Converged: True\n",
      "Learning rate: 0.5, Epochs: 100, Converged: True\n",
      "Learning rate: 0.5, Epochs: 500, Converged: True\n",
      "Learning rate: 1.0, Epochs: 10, Converged: True\n",
      "Learning rate: 1.0, Epochs: 50, Converged: True\n",
      "Learning rate: 1.0, Epochs: 100, Converged: True\n",
      "Learning rate: 1.0, Epochs: 500, Converged: True\n"
     ]
    }
   ],
   "source": [
    "import numpy as np\n",
    "import itertools\n",
    "def perceptron(X, y, learning_rate=0.1, epochs=100):\n",
    "    w = np.zeros(X.shape[1])\n",
    "    b = 0\n",
    "    \n",
    "    def step(x):\n",
    "        return 1 if x >= 0 else 0\n",
    "    \n",
    "    for epoch in range(epochs):\n",
    "        converged = True\n",
    "        for i in range(len(X)):\n",
    "            weighted_sum = np.dot(X[i], w) + b\n",
    "            output = step(weighted_sum)\n",
    "            if output != y[i]:\n",
    "                converged = False\n",
    "                w = w + learning_rate * (y[i] - output) * X[i]\n",
    "                b = b + learning_rate * (y[i] - output)\n",
    "        if converged:\n",
    "            break\n",
    "    return w, b, converged\n",
    "X = np.array([[-1, -1, -1], [-1, -1, 1], [-1, 1, -1], [-1, 1, 1],\n",
    "              [1, -1, -1], [1, -1, 1], [1, 1, -1], [1, 1, 1]])\n",
    "y_combinations = list(itertools.product([0, 1], repeat=8))\n",
    "separable_cases = 0\n",
    "for y in y_combinations:\n",
    "    _, _, converged = perceptron(X, np.array(y))\n",
    "    if converged:\n",
    "        separable_cases += 1\n",
    "print(\"Number of linearly separable cases:\", separable_cases)\n",
    "learning_rates = [0.01, 0.1, 0.5, 1.0]\n",
    "epochs_list = [10, 50, 100, 500]\n",
    "for lr in learning_rates:\n",
    "    for epochs in epochs_list:\n",
    "        _, _, converged = perceptron(X, np.array([0, 0, 0, 0, 0, 0, 0, 1]), learning_rate=lr, epochs=epochs)\n",
    "        print(f\"Learning rate: {lr}, Epochs: {epochs}, Converged: {converged}\")"
   ]
  },
  {
   "cell_type": "code",
   "execution_count": null,
   "id": "84cd717f",
   "metadata": {},
   "outputs": [],
   "source": []
  }
 ],
 "metadata": {
  "kernelspec": {
   "display_name": "Python 3 (ipykernel)",
   "language": "python",
   "name": "python3"
  },
  "language_info": {
   "codemirror_mode": {
    "name": "ipython",
    "version": 3
   },
   "file_extension": ".py",
   "mimetype": "text/x-python",
   "name": "python",
   "nbconvert_exporter": "python",
   "pygments_lexer": "ipython3",
   "version": "3.10.9"
  }
 },
 "nbformat": 4,
 "nbformat_minor": 5
}
